{
 "cells": [
  {
   "cell_type": "markdown",
   "id": "fd298cd9",
   "metadata": {},
   "source": [
    "# HARPREET KAUR (DS2306)"
   ]
  },
  {
   "cell_type": "code",
   "execution_count": 90,
   "id": "1044dc6e",
   "metadata": {},
   "outputs": [
    {
     "name": "stdout",
     "output_type": "stream",
     "text": [
      "Requirement already satisfied: selenium in c:\\users\\pc\\anaconda3\\lib\\site-packages (4.10.0)"
     ]
    }
   ],
   "source": [
    "!pip install selenium"
   ]
  },
  {
   "cell_type": "code",
   "execution_count": 91,
   "id": "54089ae3",
   "metadata": {
    "scrolled": true
   },
   "outputs": [
    {
     "name": "stdout",
     "output_type": "stream",
     "text": [
      "\n",
      "Requirement already satisfied: certifi>=2021.10.8 in c:\\users\\pc\\anaconda3\\lib\\site-packages (from selenium) (2022.9.14)\n",
      "Requirement already satisfied: trio~=0.17 in c:\\users\\pc\\anaconda3\\lib\\site-packages (from selenium) (0.22.2)\n",
      "Requirement already satisfied: urllib3[socks]<3,>=1.26 in c:\\users\\pc\\anaconda3\\lib\\site-packages (from selenium) (1.26.11)\n",
      "Requirement already satisfied: trio-websocket~=0.9 in c:\\users\\pc\\anaconda3\\lib\\site-packages (from selenium) (0.10.3)\n",
      "Requirement already satisfied: idna in c:\\users\\pc\\anaconda3\\lib\\site-packages (from trio~=0.17->selenium) (3.3)\n",
      "Requirement already satisfied: sortedcontainers in c:\\users\\pc\\anaconda3\\lib\\site-packages (from trio~=0.17->selenium) (2.4.0)\n",
      "Requirement already satisfied: outcome in c:\\users\\pc\\anaconda3\\lib\\site-packages (from trio~=0.17->selenium) (1.2.0)\n",
      "Requirement already satisfied: cffi>=1.14 in c:\\users\\pc\\anaconda3\\lib\\site-packages (from trio~=0.17->selenium) (1.15.1)\n",
      "Requirement already satisfied: sniffio in c:\\users\\pc\\anaconda3\\lib\\site-packages (from trio~=0.17->selenium) (1.2.0)\n",
      "Requirement already satisfied: exceptiongroup>=1.0.0rc9 in c:\\users\\pc\\anaconda3\\lib\\site-packages (from trio~=0.17->selenium) (1.1.2)\n",
      "Requirement already satisfied: attrs>=20.1.0 in c:\\users\\pc\\anaconda3\\lib\\site-packages (from trio~=0.17->selenium) (21.4.0)\n",
      "Requirement already satisfied: wsproto>=0.14 in c:\\users\\pc\\anaconda3\\lib\\site-packages (from trio-websocket~=0.9->selenium) (1.2.0)\n",
      "Requirement already satisfied: PySocks!=1.5.7,<2.0,>=1.5.6 in c:\\users\\pc\\anaconda3\\lib\\site-packages (from urllib3[socks]<3,>=1.26->selenium) (1.7.1)\n",
      "Requirement already satisfied: pycparser in c:\\users\\pc\\anaconda3\\lib\\site-packages (from cffi>=1.14->trio~=0.17->selenium) (2.21)\n",
      "Requirement already satisfied: h11<1,>=0.9.0 in c:\\users\\pc\\anaconda3\\lib\\site-packages (from wsproto>=0.14->trio-websocket~=0.9->selenium) (0.14.0)\n"
     ]
    }
   ],
   "source": [
    "import selenium \n",
    "from selenium import webdriver"
   ]
  },
  {
   "cell_type": "code",
   "execution_count": 92,
   "id": "4c4a0fa8",
   "metadata": {},
   "outputs": [],
   "source": [
    "import pandas as pd "
   ]
  },
  {
   "cell_type": "code",
   "execution_count": 102,
   "id": "913cb458",
   "metadata": {},
   "outputs": [],
   "source": [
    "from selenium.webdriver.common.by import By"
   ]
  },
  {
   "cell_type": "code",
   "execution_count": 94,
   "id": "c5c43944",
   "metadata": {},
   "outputs": [],
   "source": [
    "import warnings  "
   ]
  },
  {
   "cell_type": "code",
   "execution_count": 95,
   "id": "c10f9427",
   "metadata": {},
   "outputs": [],
   "source": [
    "warnings.filterwarnings(\"ignore\")"
   ]
  },
  {
   "cell_type": "code",
   "execution_count": 96,
   "id": "d48d48a0",
   "metadata": {},
   "outputs": [],
   "source": [
    "import time   "
   ]
  },
  {
   "cell_type": "code",
   "execution_count": 97,
   "id": "86134c10",
   "metadata": {},
   "outputs": [],
   "source": [
    "from selenium import webdriver                "
   ]
  },
  {
   "cell_type": "code",
   "execution_count": 109,
   "id": "6fc77b8d",
   "metadata": {},
   "outputs": [],
   "source": [
    "driver = webdriver.Chrome()\n",
    "driver.get(\"https://www.shine.com/\")"
   ]
  },
  {
   "cell_type": "code",
   "execution_count": 110,
   "id": "5e5628ec",
   "metadata": {},
   "outputs": [],
   "source": [
    "designation=driver.find_element(By.CLASS_NAME,\"form-control  \")\n",
    "designation.send_keys(\"Data Analyst\")"
   ]
  },
  {
   "cell_type": "code",
   "execution_count": 111,
   "id": "b1afd107",
   "metadata": {},
   "outputs": [],
   "source": [
    "location=driver.find_element(By.XPATH,\"/html/body/div[1]/div[4]/div/div[2]/div[2]/div/form/div/div[1]/ul/li[2]/div/input\")\n",
    "location.send_keys(\"Banglore\")"
   ]
  },
  {
   "cell_type": "code",
   "execution_count": 112,
   "id": "e0906820",
   "metadata": {},
   "outputs": [],
   "source": [
    "search_jobs=driver.find_element(By.CLASS_NAME,\"searchForm_btnWrap_advance__VYBHN\")\n",
    "search_jobs.click()"
   ]
  },
  {
   "cell_type": "code",
   "execution_count": 49,
   "id": "297e4e57",
   "metadata": {},
   "outputs": [],
   "source": [
    "job_title=[]\n",
    "title_tags=driver.find_elements(By.XPATH,'//div[@class=\"jobCard_jobCard_features__wJid6\"]')\n",
    "for i in title_tags[0:10]:\n",
    "    title=i.text\n",
    "    job_title.append(title)"
   ]
  },
  {
   "cell_type": "code",
   "execution_count": 38,
   "id": "fa244fb8",
   "metadata": {},
   "outputs": [],
   "source": [
    "job_location=[]\n",
    "location_tags=driver.find_elements(By.XPATH,'//div[@class=\" jobCard_jobCard_lists_item__YxRkV jobCard_locationIcon__zrWt2\"]')\n",
    "for i in location_tags[0:10]:\n",
    "    location=i.text\n",
    "    job_location.append(location)"
   ]
  },
  {
   "cell_type": "code",
   "execution_count": 115,
   "id": "3d9ec7a2",
   "metadata": {},
   "outputs": [],
   "source": [
    "company_name=[]\n",
    "name_tags=driver.find_elements(By.XPATH,'//div[@class=\"jobCard_jobCard_cName__mYnow\"]')\n",
    "for j in name_tags[0:10]:\n",
    "    c_name=j.text\n",
    "    company_name.append(c_name)\n"
   ]
  },
  {
   "cell_type": "code",
   "execution_count": 117,
   "id": "260a5b09",
   "metadata": {},
   "outputs": [
    {
     "name": "stdout",
     "output_type": "stream",
     "text": [
      "10\n"
     ]
    }
   ],
   "source": [
    "print(len(company_name))"
   ]
  },
  {
   "cell_type": "code",
   "execution_count": 120,
   "id": "5d058fd9",
   "metadata": {},
   "outputs": [],
   "source": [
    "experience=[]\n",
    "experience_tags=driver.find_elements(By.XPATH,'//div[@class=\" jobCard_jobCard_lists_item__YxRkV jobCard_jobIcon__3FB1t\"]')\n",
    "for k in experience_tags[0:10]:\n",
    "    exp=k.text\n",
    "    experience.append(exp)"
   ]
  },
  {
   "cell_type": "code",
   "execution_count": null,
   "id": "8148fe10",
   "metadata": {},
   "outputs": [],
   "source": []
  },
  {
   "cell_type": "code",
   "execution_count": 121,
   "id": "23d82c84",
   "metadata": {},
   "outputs": [
    {
     "data": {
      "text/html": [
       "<div>\n",
       "<style scoped>\n",
       "    .dataframe tbody tr th:only-of-type {\n",
       "        vertical-align: middle;\n",
       "    }\n",
       "\n",
       "    .dataframe tbody tr th {\n",
       "        vertical-align: top;\n",
       "    }\n",
       "\n",
       "    .dataframe thead th {\n",
       "        text-align: right;\n",
       "    }\n",
       "</style>\n",
       "<table border=\"1\" class=\"dataframe\">\n",
       "  <thead>\n",
       "    <tr style=\"text-align: right;\">\n",
       "      <th></th>\n",
       "      <th>Title</th>\n",
       "      <th>Location</th>\n",
       "      <th>Company_name</th>\n",
       "      <th>Expeience</th>\n",
       "    </tr>\n",
       "  </thead>\n",
       "  <tbody>\n",
       "    <tr>\n",
       "      <th>0</th>\n",
       "      <td>Premium\\n1 week ago</td>\n",
       "      <td>Bangalore</td>\n",
       "      <td>quess corp (magna infotech)</td>\n",
       "      <td>2 to 5 Yrs</td>\n",
       "    </tr>\n",
       "    <tr>\n",
       "      <th>1</th>\n",
       "      <td>4 days ago</td>\n",
       "      <td>Gurugram\\n+7</td>\n",
       "      <td>subhadra jobs consultancy hiring fo...</td>\n",
       "      <td>1 to 6 Yrs</td>\n",
       "    </tr>\n",
       "    <tr>\n",
       "      <th>2</th>\n",
       "      <td>2 weeks ago</td>\n",
       "      <td>Gurugram\\n+1</td>\n",
       "      <td>quiscon biotech</td>\n",
       "      <td>0 to 2 Yrs</td>\n",
       "    </tr>\n",
       "    <tr>\n",
       "      <th>3</th>\n",
       "      <td>2 weeks ago</td>\n",
       "      <td>Bangalore</td>\n",
       "      <td>ara resources private limited</td>\n",
       "      <td>5 to 8 Yrs</td>\n",
       "    </tr>\n",
       "    <tr>\n",
       "      <th>4</th>\n",
       "      <td>Premium\\n2 weeks ago</td>\n",
       "      <td>Mumbai City\\n+6</td>\n",
       "      <td>amazon</td>\n",
       "      <td>1 to 3 Yrs</td>\n",
       "    </tr>\n",
       "    <tr>\n",
       "      <th>5</th>\n",
       "      <td>Hot\\n1 day ago</td>\n",
       "      <td>Gurugram\\n+4</td>\n",
       "      <td>acura solutions.</td>\n",
       "      <td>4 to 6 Yrs</td>\n",
       "    </tr>\n",
       "    <tr>\n",
       "      <th>6</th>\n",
       "      <td>3 weeks ago</td>\n",
       "      <td>Bangalore</td>\n",
       "      <td>fidelity national information servi...</td>\n",
       "      <td>6 to 10 Yrs</td>\n",
       "    </tr>\n",
       "    <tr>\n",
       "      <th>7</th>\n",
       "      <td>Premium\\n3 weeks ago</td>\n",
       "      <td>Bangalore</td>\n",
       "      <td>mercede</td>\n",
       "      <td>2 to 5 Yrs</td>\n",
       "    </tr>\n",
       "    <tr>\n",
       "      <th>8</th>\n",
       "      <td>3 weeks ago</td>\n",
       "      <td>Bangalore</td>\n",
       "      <td>radiometer india</td>\n",
       "      <td>4 to 6 Yrs</td>\n",
       "    </tr>\n",
       "    <tr>\n",
       "      <th>9</th>\n",
       "      <td>3 weeks ago</td>\n",
       "      <td>Mumbai City\\n+9</td>\n",
       "      <td>radiometer india</td>\n",
       "      <td>8 to 10 Yrs</td>\n",
       "    </tr>\n",
       "  </tbody>\n",
       "</table>\n",
       "</div>"
      ],
      "text/plain": [
       "                  Title         Location  \\\n",
       "0   Premium\\n1 week ago        Bangalore   \n",
       "1            4 days ago     Gurugram\\n+7   \n",
       "2           2 weeks ago     Gurugram\\n+1   \n",
       "3           2 weeks ago        Bangalore   \n",
       "4  Premium\\n2 weeks ago  Mumbai City\\n+6   \n",
       "5        Hot\\n1 day ago     Gurugram\\n+4   \n",
       "6           3 weeks ago        Bangalore   \n",
       "7  Premium\\n3 weeks ago        Bangalore   \n",
       "8           3 weeks ago        Bangalore   \n",
       "9           3 weeks ago  Mumbai City\\n+9   \n",
       "\n",
       "                             Company_name    Expeience  \n",
       "0             quess corp (magna infotech)   2 to 5 Yrs  \n",
       "1  subhadra jobs consultancy hiring fo...   1 to 6 Yrs  \n",
       "2                         quiscon biotech   0 to 2 Yrs  \n",
       "3           ara resources private limited   5 to 8 Yrs  \n",
       "4                                  amazon   1 to 3 Yrs  \n",
       "5                        acura solutions.   4 to 6 Yrs  \n",
       "6  fidelity national information servi...  6 to 10 Yrs  \n",
       "7                                 mercede   2 to 5 Yrs  \n",
       "8                        radiometer india   4 to 6 Yrs  \n",
       "9                        radiometer india  8 to 10 Yrs  "
      ]
     },
     "execution_count": 121,
     "metadata": {},
     "output_type": "execute_result"
    }
   ],
   "source": [
    "import pandas as pd\n",
    "df=pd.DataFrame({'Title':job_title, 'Location':job_location,'Company_name':company_name, 'Expeience':experience})\n",
    "df"
   ]
  },
  {
   "cell_type": "code",
   "execution_count": 40,
   "id": "005b19eb",
   "metadata": {},
   "outputs": [
    {
     "name": "stdout",
     "output_type": "stream",
     "text": [
      "10 10\n"
     ]
    }
   ],
   "source": [
    "print(len(job_title),len(job_location))"
   ]
  },
  {
   "cell_type": "markdown",
   "id": "8d3f8265",
   "metadata": {},
   "source": [
    "# 2. Data scientist"
   ]
  },
  {
   "cell_type": "code",
   "execution_count": 84,
   "id": "ed9033dd",
   "metadata": {},
   "outputs": [],
   "source": [
    "driver = webdriver.Chrome()\n",
    "driver.get(\"https://www.shine.com/\")"
   ]
  },
  {
   "cell_type": "code",
   "execution_count": 85,
   "id": "452c184c",
   "metadata": {},
   "outputs": [],
   "source": [
    "designation=driver.find_element(By.CLASS_NAME,\"form-control  \")\n",
    "designation.send_keys(\"Data Scientist \")"
   ]
  },
  {
   "cell_type": "code",
   "execution_count": 86,
   "id": "efe0982f",
   "metadata": {},
   "outputs": [],
   "source": [
    "location=driver.find_element(By.XPATH,\"/html/body/div[1]/div[4]/div/div[2]/div[2]/div/form/div/div[1]/ul/li[2]/div/input\")\n",
    "location.send_keys(\"Banglore\")"
   ]
  },
  {
   "cell_type": "code",
   "execution_count": 87,
   "id": "b956ac12",
   "metadata": {},
   "outputs": [],
   "source": [
    "search_jobs=driver.find_element(By.CLASS_NAME,\"searchForm_btnWrap_advance__VYBHN\")\n",
    "search_jobs.click()"
   ]
  },
  {
   "cell_type": "code",
   "execution_count": 104,
   "id": "ee1bcc9b",
   "metadata": {},
   "outputs": [],
   "source": [
    "job_title1=[]\n",
    "title_tags1=driver.find_elements(By.XPATH,'//div[@class=\"jobCard_jobCard_features__wJid6\"]')\n",
    "for i in title_tags1[0:10]:\n",
    "    title1=i.text\n",
    "    job_title1.append(title1)"
   ]
  },
  {
   "cell_type": "code",
   "execution_count": 105,
   "id": "c6343196",
   "metadata": {},
   "outputs": [
    {
     "name": "stdout",
     "output_type": "stream",
     "text": [
      "10\n"
     ]
    }
   ],
   "source": [
    "print(len(job_title1))"
   ]
  },
  {
   "cell_type": "code",
   "execution_count": 107,
   "id": "e078c8f7",
   "metadata": {},
   "outputs": [],
   "source": [
    "job_location1=[]\n",
    "location_tags1=driver.find_elements(By.XPATH,'//div[@class=\" jobCard_jobCard_lists_item__YxRkV jobCard_locationIcon__zrWt2\"]')\n",
    "for i in location_tags1[0:10]:\n",
    "    location1=i.text\n",
    "    job_location1.append(location1)"
   ]
  },
  {
   "cell_type": "code",
   "execution_count": 122,
   "id": "c3415fb0",
   "metadata": {},
   "outputs": [],
   "source": [
    "company_name1=[]\n",
    "c_tags=driver.find_elements(By.XPATH,'//div[@class=\"jobCard_jobCard_cName__mYnow\"]')\n",
    "for n in c_tags[0:10]:\n",
    "    tags=n.text\n",
    "    company_name1.append(tags)"
   ]
  },
  {
   "cell_type": "code",
   "execution_count": null,
   "id": "0b95263a",
   "metadata": {},
   "outputs": [],
   "source": []
  },
  {
   "cell_type": "code",
   "execution_count": 123,
   "id": "3f12d7c2",
   "metadata": {},
   "outputs": [
    {
     "data": {
      "text/html": [
       "<div>\n",
       "<style scoped>\n",
       "    .dataframe tbody tr th:only-of-type {\n",
       "        vertical-align: middle;\n",
       "    }\n",
       "\n",
       "    .dataframe tbody tr th {\n",
       "        vertical-align: top;\n",
       "    }\n",
       "\n",
       "    .dataframe thead th {\n",
       "        text-align: right;\n",
       "    }\n",
       "</style>\n",
       "<table border=\"1\" class=\"dataframe\">\n",
       "  <thead>\n",
       "    <tr style=\"text-align: right;\">\n",
       "      <th></th>\n",
       "      <th>Title</th>\n",
       "      <th>Location</th>\n",
       "      <th>Company_name</th>\n",
       "    </tr>\n",
       "  </thead>\n",
       "  <tbody>\n",
       "    <tr>\n",
       "      <th>0</th>\n",
       "      <td>Hot\\n1 day ago</td>\n",
       "      <td>Bangalore</td>\n",
       "      <td>quess corp (magna infotech)</td>\n",
       "    </tr>\n",
       "    <tr>\n",
       "      <th>1</th>\n",
       "      <td>5 days ago</td>\n",
       "      <td>Gurugram\\n+7</td>\n",
       "      <td>subhadra jobs consultancy hiring fo...</td>\n",
       "    </tr>\n",
       "    <tr>\n",
       "      <th>2</th>\n",
       "      <td>4 days ago</td>\n",
       "      <td>Gurugram\\n+1</td>\n",
       "      <td>quiscon biotech</td>\n",
       "    </tr>\n",
       "    <tr>\n",
       "      <th>3</th>\n",
       "      <td>Premium\\n1 week ago</td>\n",
       "      <td>Bangalore</td>\n",
       "      <td>ara resources private limited</td>\n",
       "    </tr>\n",
       "    <tr>\n",
       "      <th>4</th>\n",
       "      <td>2 weeks ago</td>\n",
       "      <td>Mumbai City\\n+6</td>\n",
       "      <td>amazon</td>\n",
       "    </tr>\n",
       "    <tr>\n",
       "      <th>5</th>\n",
       "      <td>3 weeks ago</td>\n",
       "      <td>Gurugram\\n+4</td>\n",
       "      <td>acura solutions.</td>\n",
       "    </tr>\n",
       "    <tr>\n",
       "      <th>6</th>\n",
       "      <td>Premium\\n3 weeks ago</td>\n",
       "      <td>Bangalore</td>\n",
       "      <td>fidelity national information servi...</td>\n",
       "    </tr>\n",
       "    <tr>\n",
       "      <th>7</th>\n",
       "      <td>3 weeks ago</td>\n",
       "      <td>Bangalore</td>\n",
       "      <td>mercede</td>\n",
       "    </tr>\n",
       "    <tr>\n",
       "      <th>8</th>\n",
       "      <td>Premium\\n3 weeks ago</td>\n",
       "      <td>Bangalore</td>\n",
       "      <td>radiometer india</td>\n",
       "    </tr>\n",
       "    <tr>\n",
       "      <th>9</th>\n",
       "      <td>3 weeks ago</td>\n",
       "      <td>Mumbai City\\n+9</td>\n",
       "      <td>radiometer india</td>\n",
       "    </tr>\n",
       "  </tbody>\n",
       "</table>\n",
       "</div>"
      ],
      "text/plain": [
       "                  Title         Location  \\\n",
       "0        Hot\\n1 day ago        Bangalore   \n",
       "1            5 days ago     Gurugram\\n+7   \n",
       "2            4 days ago     Gurugram\\n+1   \n",
       "3   Premium\\n1 week ago        Bangalore   \n",
       "4           2 weeks ago  Mumbai City\\n+6   \n",
       "5           3 weeks ago     Gurugram\\n+4   \n",
       "6  Premium\\n3 weeks ago        Bangalore   \n",
       "7           3 weeks ago        Bangalore   \n",
       "8  Premium\\n3 weeks ago        Bangalore   \n",
       "9           3 weeks ago  Mumbai City\\n+9   \n",
       "\n",
       "                             Company_name  \n",
       "0             quess corp (magna infotech)  \n",
       "1  subhadra jobs consultancy hiring fo...  \n",
       "2                         quiscon biotech  \n",
       "3           ara resources private limited  \n",
       "4                                  amazon  \n",
       "5                        acura solutions.  \n",
       "6  fidelity national information servi...  \n",
       "7                                 mercede  \n",
       "8                        radiometer india  \n",
       "9                        radiometer india  "
      ]
     },
     "execution_count": 123,
     "metadata": {},
     "output_type": "execute_result"
    }
   ],
   "source": [
    "import pandas as pd\n",
    "df=pd.DataFrame({'Title':job_title1, 'Location':job_location1, 'Company_name':company_name1})\n",
    "df"
   ]
  },
  {
   "cell_type": "markdown",
   "id": "b371f27e",
   "metadata": {},
   "source": [
    "# 3 scrap filters available in webpages"
   ]
  },
  {
   "cell_type": "code",
   "execution_count": null,
   "id": "6d3b76c5",
   "metadata": {},
   "outputs": [],
   "source": []
  }
 ],
 "metadata": {
  "kernelspec": {
   "display_name": "Python 3 (ipykernel)",
   "language": "python",
   "name": "python3"
  },
  "language_info": {
   "codemirror_mode": {
    "name": "ipython",
    "version": 3
   },
   "file_extension": ".py",
   "mimetype": "text/x-python",
   "name": "python",
   "nbconvert_exporter": "python",
   "pygments_lexer": "ipython3",
   "version": "3.9.13"
  }
 },
 "nbformat": 4,
 "nbformat_minor": 5
}
