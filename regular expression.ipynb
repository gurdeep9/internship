{
 "cells": [
  {
   "cell_type": "markdown",
   "id": "fcaf46b8",
   "metadata": {},
   "source": [
    "# Assignment Regular Expressions\n",
    "name: Harpreet Kaur\n",
    "    batch:DS2306"
   ]
  },
  {
   "cell_type": "code",
   "execution_count": 17,
   "id": "1993ee75",
   "metadata": {},
   "outputs": [],
   "source": [
    "import regex as re"
   ]
  },
  {
   "cell_type": "markdown",
   "id": "d7425cc7",
   "metadata": {},
   "source": [
    "# 1.Question 1- Write a Python program to check that a string contains only a certain set of characters (in this case a-z, A-Z and 0-9)."
   ]
  },
  {
   "cell_type": "code",
   "execution_count": 128,
   "id": "d1f722ef",
   "metadata": {},
   "outputs": [
    {
     "name": "stdout",
     "output_type": "stream",
     "text": [
      "['a', 'zA', 'Z0', '9']\n"
     ]
    }
   ],
   "source": [
    "string1= \"^a-zA-Z0-9-@ #\"\n",
    "x=re.findall(\"\\w+\", string1)\n",
    "print(x)"
   ]
  },
  {
   "cell_type": "markdown",
   "id": "ab4170ee",
   "metadata": {},
   "source": [
    "# 2. one or more 'b'"
   ]
  },
  {
   "cell_type": "code",
   "execution_count": 74,
   "id": "a6e7a4c6",
   "metadata": {},
   "outputs": [
    {
     "name": "stdout",
     "output_type": "stream",
     "text": [
      "['bab']\n"
     ]
    }
   ],
   "source": [
    "text=\"i am happy boy have baby \"\n",
    "p=\".ab\"\n",
    "x=re.findall(p,text)\n",
    "print(x)\n"
   ]
  },
  {
   "cell_type": "code",
   "execution_count": 73,
   "id": "91733cfc",
   "metadata": {},
   "outputs": [
    {
     "name": "stdout",
     "output_type": "stream",
     "text": [
      "['ab']\n"
     ]
    }
   ],
   "source": [
    "text=\"i am happy boy have babbby \"\n",
    "p=\"ab+?\"\n",
    "x=re.findall(p,text)\n",
    "print(x)"
   ]
  },
  {
   "cell_type": "code",
   "execution_count": 62,
   "id": "e274df43",
   "metadata": {},
   "outputs": [
    {
     "name": "stdout",
     "output_type": "stream",
     "text": [
      "['ab']\n"
     ]
    }
   ],
   "source": [
    "text=\"abbbcd\"\n",
    "p=\"ab+?\"\n",
    "x=re.findall(p,text)\n",
    "print(x)\n"
   ]
  },
  {
   "cell_type": "code",
   "execution_count": 31,
   "id": "c3dab919",
   "metadata": {},
   "outputs": [
    {
     "name": "stdout",
     "output_type": "stream",
     "text": [
      "matched!\n",
      "matched!\n"
     ]
    }
   ],
   "source": [
    "def fun(text):\n",
    "        patterns = 'ab+?'\n",
    "        if re.search(patterns,  text):\n",
    "                return 'matched!'\n",
    "        else:\n",
    "                return('Not matched!')\n",
    "\n",
    "print(fun(\"ab\"))\n",
    "print(fun(\"abc\"))"
   ]
  },
  {
   "cell_type": "code",
   "execution_count": null,
   "id": "71cfc6bf",
   "metadata": {},
   "outputs": [],
   "source": []
  },
  {
   "cell_type": "markdown",
   "id": "16b93f9b",
   "metadata": {},
   "source": [
    "4.zero or one 'b'."
   ]
  },
  {
   "cell_type": "code",
   "execution_count": 125,
   "id": "8f162943",
   "metadata": {},
   "outputs": [
    {
     "name": "stdout",
     "output_type": "stream",
     "text": [
      "Found a match!\n",
      "Found a match!\n"
     ]
    }
   ],
   "source": [
    "def fun(text):\n",
    "        p = 'ab?'\n",
    "        if re.search(p,  text):\n",
    "                return 'Found a match!'\n",
    "        else:\n",
    "                return('Not matched!')\n",
    "\n",
    "print(fun(\"ab\"))\n",
    "print(fun(\"aefc\"))\n"
   ]
  },
  {
   "cell_type": "markdown",
   "id": "919d9fa9",
   "metadata": {},
   "source": [
    "Question 5- Write a Python program that matches a string that has an a followed by three 'b'."
   ]
  },
  {
   "cell_type": "code",
   "execution_count": 76,
   "id": "3b4f6bc3",
   "metadata": {},
   "outputs": [
    {
     "name": "stdout",
     "output_type": "stream",
     "text": [
      "Found a match!\n",
      "Not matched!\n"
     ]
    }
   ],
   "source": [
    "def fun(text):\n",
    "        p = 'ab{3}?'\n",
    "        if re.search(p,  text):\n",
    "                return 'Found a match!'\n",
    "        else:\n",
    "                return('Not matched!')\n",
    "\n",
    "print(fun(\"abbb\"))\n",
    "print(fun(\"aabc\"))"
   ]
  },
  {
   "cell_type": "markdown",
   "id": "c8064523",
   "metadata": {},
   "source": [
    "Question 6- Write a regular expression in Python to split a string into uppercase letters"
   ]
  },
  {
   "cell_type": "code",
   "execution_count": 79,
   "id": "ce951c3d",
   "metadata": {},
   "outputs": [
    {
     "data": {
      "text/plain": [
       "['Rohit', 'Is', 'Very', 'Good', 'Boy']"
      ]
     },
     "execution_count": 79,
     "metadata": {},
     "output_type": "execute_result"
    }
   ],
   "source": [
    "re.findall('[A-Z][^A-Z]*', 'RohitIsVeryGoodBoy')\n"
   ]
  },
  {
   "cell_type": "markdown",
   "id": "6a8eef78",
   "metadata": {},
   "source": [
    "Question 7- Write a Python program that matches a string that has an a followed by two to three 'b'."
   ]
  },
  {
   "cell_type": "code",
   "execution_count": 80,
   "id": "d9f4e8ba",
   "metadata": {},
   "outputs": [
    {
     "name": "stdout",
     "output_type": "stream",
     "text": [
      "['abbb', 'abbb']\n"
     ]
    }
   ],
   "source": [
    "text=\"abbb have ab and abbbb and rw\"\n",
    "p=\".b{3}\"\n",
    "x=re.findall(p,text)\n",
    "print(x)"
   ]
  },
  {
   "cell_type": "markdown",
   "id": "1b14c71f",
   "metadata": {},
   "source": [
    "# Question 8- Write a Python program to find sequences of lowercase letters joined with a underscore."
   ]
  },
  {
   "cell_type": "code",
   "execution_count": 40,
   "id": "0f1d302c",
   "metadata": {},
   "outputs": [
    {
     "name": "stdout",
     "output_type": "stream",
     "text": [
      "Found a match!\n"
     ]
    }
   ],
   "source": [
    "def fun(text):\n",
    "        p = '^[a-z]+_[a-z]+$'\n",
    "        if re.search(p,  text):\n",
    "                return 'Found a match!'\n",
    "        else:\n",
    "                return'Not matched!'\n",
    "\n",
    "print(fun(\"aab_cbbbc\"))"
   ]
  },
  {
   "cell_type": "markdown",
   "id": "0bec847d",
   "metadata": {},
   "source": [
    "# Question 9- Write a Python program that matches a string that has an 'a' followed by anything, ending in 'b'."
   ]
  },
  {
   "cell_type": "code",
   "execution_count": 90,
   "id": "a5ea5ab7",
   "metadata": {},
   "outputs": [
    {
     "name": "stdout",
     "output_type": "stream",
     "text": [
      "['accddbbjjjb']\n"
     ]
    }
   ],
   "source": [
    "text=\"accddbbjjjb\"\n",
    "p=\"a.*?b$\"\n",
    "x=re.findall(p,text)\n",
    "print(x)"
   ]
  },
  {
   "cell_type": "markdown",
   "id": "9459022a",
   "metadata": {},
   "source": [
    "# Question 10- Write a Python program that matches a word at the beginning of a string."
   ]
  },
  {
   "cell_type": "code",
   "execution_count": 94,
   "id": "98f6e43e",
   "metadata": {},
   "outputs": [
    {
     "name": "stdout",
     "output_type": "stream",
     "text": [
      "['hello']\n"
     ]
    }
   ],
   "source": [
    "text=\"hello my class\"\n",
    "p=\"^hello+\"\n",
    "x=re.findall(p,text)\n",
    "print(x)"
   ]
  },
  {
   "cell_type": "markdown",
   "id": "b13e0d1f",
   "metadata": {},
   "source": [
    "# Question 11- Write a Python program to match a string that contains only upper and lowercase letters, numbers, and underscores."
   ]
  },
  {
   "cell_type": "code",
   "execution_count": 97,
   "id": "1aaa62a7",
   "metadata": {},
   "outputs": [
    {
     "name": "stdout",
     "output_type": "stream",
     "text": [
      "['Hello_World_1']\n"
     ]
    }
   ],
   "source": [
    "text=\"Hello_World_1\"\n",
    "p='^[a-zA-Z0-9_]*$'\n",
    "x=re.findall(p,text)\n",
    "print(x)"
   ]
  },
  {
   "cell_type": "markdown",
   "id": "74c96094",
   "metadata": {},
   "source": [
    "# Question 12- Write a Python program where a string will start with a specific number. "
   ]
  },
  {
   "cell_type": "code",
   "execution_count": 211,
   "id": "23a13d39",
   "metadata": {},
   "outputs": [
    {
     "name": "stdout",
     "output_type": "stream",
     "text": [
      "True\n",
      "False\n"
     ]
    }
   ],
   "source": [
    "def fun(string):\n",
    "    text = re.compile(r\"^7\")\n",
    "    if text.match(string):\n",
    "        return True\n",
    "    else:\n",
    "        return False\n",
    "print(fun('7-2345861'))\n",
    "print(fun('6-2345861'))"
   ]
  },
  {
   "cell_type": "code",
   "execution_count": 114,
   "id": "97a380a0",
   "metadata": {},
   "outputs": [
    {
     "name": "stdout",
     "output_type": "stream",
     "text": [
      "['5']\n"
     ]
    }
   ],
   "source": [
    "text=\"5234, 6667, 5677\"\n",
    "p=\"^5\"\n",
    "x=re.findall(p,text)\n",
    "print(x)"
   ]
  },
  {
   "cell_type": "markdown",
   "id": "831a585d",
   "metadata": {},
   "source": [
    "# Question 13- Write a Python program to remove leading zeros from an IP address"
   ]
  },
  {
   "cell_type": "code",
   "execution_count": 115,
   "id": "e9cca951",
   "metadata": {},
   "outputs": [
    {
     "name": "stdout",
     "output_type": "stream",
     "text": [
      "319.9.84.156\n"
     ]
    }
   ],
   "source": [
    "ip = \"319.09.084.156\"\n",
    "string = re.sub('\\.[0]*', '.', ip)\n",
    "print(string)"
   ]
  },
  {
   "cell_type": "markdown",
   "id": "6d8d10ec",
   "metadata": {},
   "source": [
    "# Write a regular expression in python to match a date string in the form of Month name followed by day number and year stored in a text file."
   ]
  },
  {
   "cell_type": "code",
   "execution_count": 217,
   "id": "c3ddff9c",
   "metadata": {},
   "outputs": [
    {
     "name": "stdout",
     "output_type": "stream",
     "text": [
      "None\n"
     ]
    }
   ],
   "source": [
    "text=\"On August 15th 1947 that India was declared independent from British colonialism, and the reins of control were handed over to the leaders of the Country\"\n",
    "x = re.match(r'\\w+\\d[a-z]+_[a-z]\\d{4}', text)\n",
    "print(x)"
   ]
  },
  {
   "cell_type": "markdown",
   "id": "f334b159",
   "metadata": {},
   "source": [
    "# Question 15- Write a Python program to search some literals strings in a string. Go to the editor\n",
    "Sample text : 'The quick brown fox jumps over the lazy dog.'\n",
    "Searched words : 'fox', 'dog', 'horse'\n",
    "\n"
   ]
  },
  {
   "cell_type": "code",
   "execution_count": 209,
   "id": "5c0f0026",
   "metadata": {},
   "outputs": [
    {
     "name": "stdout",
     "output_type": "stream",
     "text": [
      "Searching for \"fox\" in \"The quick brown fox jumps over the lazy dog.\" \n",
      "Matched!\n",
      "Searching for \"dog\" in \"The quick brown fox jumps over the lazy dog.\" \n",
      "Matched!\n",
      "Searching for \"horse\" in \"The quick brown fox jumps over the lazy dog.\" \n",
      "Not Matched!\n"
     ]
    }
   ],
   "source": [
    "search = [ 'fox', 'dog', 'horse' ]\n",
    "text = 'The quick brown fox jumps over the lazy dog.'\n",
    "for p in search:\n",
    "    print('Searching for \"%s\" in \"%s\" ' % (p, text),)\n",
    "    if re.search(p,  text):\n",
    "        print('Matched!')\n",
    "    else:\n",
    "        print('Not Matched!')\n",
    "\t\t"
   ]
  },
  {
   "cell_type": "markdown",
   "id": "53e1444c",
   "metadata": {},
   "source": [
    "# Question 16- Write a Python program to search a literals string in a string and also find the location within the original string where the pattern occurs"
   ]
  },
  {
   "cell_type": "code",
   "execution_count": 208,
   "id": "2b36d7d9",
   "metadata": {},
   "outputs": [
    {
     "name": "stdout",
     "output_type": "stream",
     "text": [
      "Found \"examples\" in \"i will use an examples to create an Array from more than 100 ebooks\" from 14 to 22 \n"
     ]
    }
   ],
   "source": [
    "text=\"i will use an examples to create an Array from more than 100 ebooks\"\n",
    "p = 'examples'\n",
    "match = re.search(p, text)\n",
    "e = match.start()\n",
    "s = match.end()\n",
    "print('Found \"%s\" in \"%s\" from %d to %d ' % \\\n",
    "    (match.re.pattern, match.string, e, s))"
   ]
  },
  {
   "cell_type": "markdown",
   "id": "ced4738e",
   "metadata": {},
   "source": [
    "# Question 17- Write a Python program to find the substrings within a string."
   ]
  },
  {
   "cell_type": "code",
   "execution_count": 206,
   "id": "5a4fdb20",
   "metadata": {},
   "outputs": [
    {
     "name": "stdout",
     "output_type": "stream",
     "text": [
      "Found \"examples\"\n"
     ]
    }
   ],
   "source": [
    "text=\"i will use an examples to create an Array from more than 100 ebooks\"\n",
    "p = 'examples'\n",
    "for match in re.findall(p, text):\n",
    "    print('Found \"%s\"' % match)"
   ]
  },
  {
   "cell_type": "markdown",
   "id": "6fb8b422",
   "metadata": {},
   "source": [
    "# Question 18- Write a Python program to find the occurrence and position of the substrings within a string."
   ]
  },
  {
   "cell_type": "code",
   "execution_count": 205,
   "id": "781ab421",
   "metadata": {},
   "outputs": [
    {
     "name": "stdout",
     "output_type": "stream",
     "text": [
      "Found \"examples\" at 14:22\n"
     ]
    }
   ],
   "source": [
    "text=\"i will use an examples to create an Array from more than 100 ebooks\"\n",
    "p = 'examples'\n",
    "for match in re.finditer(p, text):\n",
    "    e = match.start()\n",
    "    s = match.end()\n",
    "    print('Found \"%s\" at %d:%d' % (text[e:s], e, s))\n",
    "\t"
   ]
  },
  {
   "cell_type": "markdown",
   "id": "656e1811",
   "metadata": {},
   "source": [
    "# Question 19- Write a Python program to convert a date of yyyy-mm-dd format to dd-mm-yyyy format."
   ]
  },
  {
   "cell_type": "code",
   "execution_count": 204,
   "id": "39e7cca3",
   "metadata": {},
   "outputs": [
    {
     "name": "stdout",
     "output_type": "stream",
     "text": [
      "format_changed:  02-01-2026\n"
     ]
    }
   ],
   "source": [
    "def date(dt):\n",
    "        return re.sub(r'(\\d{4})-(\\d{1,2})-(\\d{1,2})', '\\\\3-\\\\2-\\\\1', dt)\n",
    "dt1 = \"2026-01-02\"\n",
    "print(\"format_changed: \",change_date_format(dt1))"
   ]
  },
  {
   "cell_type": "markdown",
   "id": "337faa09",
   "metadata": {},
   "source": [
    "# Question 20- Write a Python program to find all words starting with 'a' or 'e' in a given string."
   ]
  },
  {
   "cell_type": "code",
   "execution_count": 200,
   "id": "8b40c1af",
   "metadata": {},
   "outputs": [
    {
     "name": "stdout",
     "output_type": "stream",
     "text": [
      "['an', 'example', 'eate', 'an', 'ay', 'an', 'ebooks']\n"
     ]
    }
   ],
   "source": [
    "text = \"i will use an example to create an Array from more than 100 ebooks\"\n",
    "x = re.findall(\"[ae]\\w+\", text)\n",
    "print(x)"
   ]
  },
  {
   "cell_type": "markdown",
   "id": "10de38dc",
   "metadata": {},
   "source": [
    "# Question 21- Write a Python program to separate and print the numbers and their position of a given string."
   ]
  },
  {
   "cell_type": "code",
   "execution_count": 195,
   "id": "b53864c0",
   "metadata": {},
   "outputs": [
    {
     "name": "stdout",
     "output_type": "stream",
     "text": [
      "60\n",
      "I: 17\n",
      "55\n",
      "I: 53\n"
     ]
    }
   ],
   "source": [
    "text = \"My notebook have 60 pages. five pages are filled and 55 are empty.\"\n",
    "\n",
    "for j in re.finditer(\"\\d+\", text):\n",
    "    print(j.group(0))\n",
    "    print(\"I:\", j.start())\n",
    "\t"
   ]
  },
  {
   "cell_type": "markdown",
   "id": "d5373514",
   "metadata": {},
   "source": [
    "# Question 22- Write a regular expression in python program to extract maximum numeric value from a string"
   ]
  },
  {
   "cell_type": "code",
   "execution_count": 137,
   "id": "0b93be76",
   "metadata": {},
   "outputs": [
    {
     "name": "stdout",
     "output_type": "stream",
     "text": [
      "Max_value: 123\n"
     ]
    }
   ],
   "source": [
    "s='as42cd123ef23'\n",
    "n = re.findall('\\d+', s)\n",
    "n = map(int, n)\n",
    "print(\"Max_value:\",max(n))"
   ]
  },
  {
   "cell_type": "markdown",
   "id": "7dcec793",
   "metadata": {},
   "source": [
    "# Question 23- Write a Regex in Python to put spaces between words starting with capital letters"
   ]
  },
  {
   "cell_type": "code",
   "execution_count": 181,
   "id": "d67d586a",
   "metadata": {},
   "outputs": [
    {
     "name": "stdout",
     "output_type": "stream",
     "text": [
      "My Good Practices\n"
     ]
    }
   ],
   "source": [
    "def capital(str2):\n",
    "  return re.sub(r\"(\\w)([A-Z])\", r\"\\1 \\2\", str2)\n",
    "\n",
    "print(capital(\"MyGoodPractices\"))"
   ]
  },
  {
   "cell_type": "markdown",
   "id": "cefe91d4",
   "metadata": {},
   "source": [
    "# Question 24- Python regex to find sequences of one upper case letter followed by lower case letters"
   ]
  },
  {
   "cell_type": "code",
   "execution_count": 180,
   "id": "14bec88f",
   "metadata": {},
   "outputs": [
    {
     "name": "stdout",
     "output_type": "stream",
     "text": [
      "matched\n",
      "Not matched\n"
     ]
    }
   ],
   "source": [
    "def fun(text):\n",
    "        p = '[A-Z]+[a-z]+$'\n",
    "        if re.search(p, text):\n",
    "                return 'matched'\n",
    "        else:\n",
    "                return('Not matched')\n",
    "print(fun(\"BaDbGg\"))\n",
    "print(fun(\"HARMAN\"))\n"
   ]
  },
  {
   "cell_type": "markdown",
   "id": "0af1317f",
   "metadata": {},
   "source": [
    "# Question 25- Write a Python program to remove duplicate words from Sentence using Regular Expression"
   ]
  },
  {
   "cell_type": "code",
   "execution_count": 179,
   "id": "437178f3",
   "metadata": {},
   "outputs": [
    {
     "name": "stdout",
     "output_type": "stream",
     "text": [
      "my name is happy kaur\n"
     ]
    }
   ],
   "source": [
    "text= \"my my name is happy happy kaur\"\n",
    "p= r'\\b(\\w+)(?:\\W+\\1\\b)+'\n",
    "x=re.sub(p, r'\\1', text)\n",
    "print(x)"
   ]
  },
  {
   "cell_type": "markdown",
   "id": "97b95fb2",
   "metadata": {},
   "source": [
    "# Question 26-  Write a python program using RegEx to accept string ending with alphanumeric character."
   ]
  },
  {
   "cell_type": "code",
   "execution_count": 162,
   "id": "4ff98559",
   "metadata": {},
   "outputs": [
    {
     "name": "stdout",
     "output_type": "stream",
     "text": [
      "<regex.Match object; span=(39, 40), match='e'>\n"
     ]
    }
   ],
   "source": [
    "text=\"my age is 20 years old born in 2022 done\"\n",
    "p='[b-zA-z0-8]$'\n",
    "x=re.search(p, text)\n",
    "print(x)"
   ]
  },
  {
   "cell_type": "markdown",
   "id": "c1d4196f",
   "metadata": {},
   "source": [
    "# Question 27-Write a python program using RegEx to extract the hashtags."
   ]
  },
  {
   "cell_type": "code",
   "execution_count": 64,
   "id": "e030121e",
   "metadata": {},
   "outputs": [
    {
     "name": "stdout",
     "output_type": "stream",
     "text": [
      "['#Doltiwal', '#xyzabc i', '#Demoneti']\n"
     ]
    }
   ],
   "source": [
    "text = \"\"\"RT @kapil_kausik: #Doltiwal I mean #xyzabc is \"hurt\" by #Demonetization as the same has rendered USELESS <ed><U+00A0><U+00BD><ed><U+00B1><U+0089> \"acquired funds\" No wo\"\"\"\n",
    "p=\"#........\"\n",
    "x=re.findall(p,text)\n",
    "print(x)\n"
   ]
  },
  {
   "cell_type": "markdown",
   "id": "6007cd9b",
   "metadata": {},
   "source": [
    "# Question 28- Write a python program using RegEx to remove <U+..> like symbols"
   ]
  },
  {
   "cell_type": "code",
   "execution_count": 178,
   "id": "333fcd7b",
   "metadata": {},
   "outputs": [
    {
     "name": "stdout",
     "output_type": "stream",
     "text": [
      "@Jags123456 Bharat band on 28??<ed><ed>Those who  are protesting #demonetization  are all different party leaders\n"
     ]
    }
   ],
   "source": [
    "text = \"@Jags123456 Bharat band on 28??<ed><U+00A0><U+00BD><ed><U+00B8><U+0082>Those who  are protesting #demonetization  are all different party leaders\"\n",
    "x = re.sub(r\"<U\\+[A-Z0-9]+>\", \"\", text)\n",
    "print(x)"
   ]
  },
  {
   "cell_type": "markdown",
   "id": "f2e71d66",
   "metadata": {},
   "source": [
    "# Write a python program to extract dates from the text stored in the text file."
   ]
  },
  {
   "cell_type": "code",
   "execution_count": 175,
   "id": "55fac755",
   "metadata": {},
   "outputs": [
    {
     "name": "stdout",
     "output_type": "stream",
     "text": [
      "['12-09-1992', '15-12-1999']\n"
     ]
    }
   ],
   "source": [
    "from datetime import datetime\n",
    " \n",
    "text= \"Ron was born on 12-09-1992 and he was admitted to school 15-12-1999 Store this sample text in the file and then extract dates\"\n",
    "x = re.findall(r'\\d{2}-\\d{2}-\\d{4}', text)\n",
    "print(x)\n",
    " "
   ]
  },
  {
   "cell_type": "markdown",
   "id": "9b40f8da",
   "metadata": {},
   "source": [
    "# Question 30- Write a Python program to replace all occurrences of a space, comma, or dot with a colon."
   ]
  },
  {
   "cell_type": "code",
   "execution_count": 165,
   "id": "e61e00c6",
   "metadata": {},
   "outputs": [
    {
     "name": "stdout",
     "output_type": "stream",
     "text": [
      "Python:Exercises::PHP:exercises:\n"
     ]
    }
   ],
   "source": [
    "text = 'Python Exercises, PHP exercises.'\n",
    "print(re.sub(\"[ ,.]\", \":\", text))\n"
   ]
  },
  {
   "cell_type": "code",
   "execution_count": null,
   "id": "596c35b9",
   "metadata": {},
   "outputs": [],
   "source": []
  }
 ],
 "metadata": {
  "kernelspec": {
   "display_name": "Python 3 (ipykernel)",
   "language": "python",
   "name": "python3"
  },
  "language_info": {
   "codemirror_mode": {
    "name": "ipython",
    "version": 3
   },
   "file_extension": ".py",
   "mimetype": "text/x-python",
   "name": "python",
   "nbconvert_exporter": "python",
   "pygments_lexer": "ipython3",
   "version": "3.9.13"
  }
 },
 "nbformat": 4,
 "nbformat_minor": 5
}
